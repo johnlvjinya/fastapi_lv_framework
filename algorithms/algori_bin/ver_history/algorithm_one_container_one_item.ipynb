{
 "cells": [
  {
   "cell_type": "code",
   "execution_count": 37,
   "id": "6dfa70d3",
   "metadata": {},
   "outputs": [
    {
     "name": "stdout",
     "output_type": "stream",
     "text": [
      "[12, 8, 2]\n",
      "20.54\n",
      "EP53 ===> {'保温箱内径_mm': '425*385*335', '长': 425, '宽': 385, '高': 335, '有效高': 185, '成本': 2.85, '最大容积_L': 24.67}\n",
      "EP133 ===> {'保温箱内径_mm': '660*490*395', '长': 660, '宽': 490, '高': 395, '有效高': 245, '成本': 4.08, '最大容积_L': 57.48}\n",
      "EP46 ===> {'保温箱内径_mm': '435*380*280', '长': 435, '宽': 380, '高': 280, '有效高': 130, '成本': 2.64, '最大容积_L': 20.83}\n",
      "EP78 ===> {'保温箱内径_mm': '506*406*376', '长': 506, '宽': 406, '高': 376, '有效高': 226, '成本': 3.27, '最大容积_L': 38.62}\n",
      "EP125 ===> {'保温箱内径_mm': '506*406*610', '长': 506, '宽': 406, '高': 610, '有效高': 460, '成本': 4.04, '最大容积_L': 62.66}\n"
     ]
    }
   ],
   "source": [
    "import json\n",
    "from myutils.func_decorated import log_func_time\n",
    "input_dict = json.load(open('data/container_info.json', \"rb\")) # 剩下的就是解析了，都是列表和字典的操作\n",
    "container_b20 = input_dict['-20']\n",
    "# container_b20.remove('温度使用范围_C')\n",
    "one_order_str = '107==>12*8*2;'.rstrip(';')\n",
    "quantity = int(one_order_str.split('==>')[0])\n",
    "goods_shape = one_order_str.split('==>')[1]\n",
    "[goods_l,goods_w,goods_h] = [int(i) for i in goods_shape.split('*')]\n",
    "print([goods_l,goods_w,goods_h])\n",
    "goods_vol_L = round(quantity*goods_l*goods_w*goods_h/1000,2)\n",
    "print(goods_vol_L)\n",
    "\n",
    "######## 查看哪些箱子能放得下\n",
    "for k,v in container_b20.items():\n",
    "    if v['最大容积_L']>goods_vol_L:\n",
    "        v.pop('温度使用范围_C') \n",
    "        print(k, '===>', v)"
   ]
  },
  {
   "cell_type": "code",
   "execution_count": 42,
   "id": "4e247424",
   "metadata": {},
   "outputs": [
    {
     "name": "stdout",
     "output_type": "stream",
     "text": [
      "=====================================\n",
      "数量 107 尺寸 [120, 80, 20] 单位：cm\n",
      "长长---从体积和高度角度出发的最大层数 [10.0, 9]\n",
      "长宽---从体积和高度角度出发的最大层数 [8.0, 9]\n",
      "长长放法,长宽放法,最大数量对比\n",
      "108 120.0 长宽结余量===> [65, 65] [25, 25]\n",
      "container信息： {'保温箱内径_mm': '425*385*335', '长': 425, '宽': 385, '高': 335, '有效高': 185, '成本': 2.85, '最大容积_L': 24.67}\n",
      "func time spend info: [func: one_goods_one_box_package] [cost: 0.000 ms] [args: ('EP53', '107==>12*8*2;')]  [kwargs: {}]\n",
      "=====================================\n",
      "数量 107 尺寸 [20, 80, 120] 单位：cm\n",
      "长长---从体积和高度角度出发的最大层数 [1.0, 1]\n",
      "长宽---从体积和高度角度出发的最大层数 [1.0, 1]\n",
      "长长放法,长宽放法,最大数量对比\n",
      "84.0 95.0 长宽结余量===> [5, 65] [25, 5]\n",
      "container信息： {'保温箱内径_mm': '425*385*335', '长': 425, '宽': 385, '高': 335, '有效高': 185, '成本': 2.85, '最大容积_L': 24.67}\n",
      "func time spend info: [func: one_goods_one_box_package] [cost: 0.000 ms] [args: ('EP53', '107==>2*8*12;')]  [kwargs: {}]\n",
      "=====================================\n",
      "数量 107 尺寸 [120, 20, 80] 单位：cm\n",
      "长长---从体积和高度角度出发的最大层数 [1.0, 2]\n",
      "长宽---从体积和高度角度出发的最大层数 [2.0, 2]\n",
      "长长放法,长宽放法,最大数量对比\n",
      "66.0 126.0 长宽结余量===> [5, 5] [5, 25]\n",
      "container信息： {'保温箱内径_mm': '425*385*335', '长': 425, '宽': 385, '高': 335, '有效高': 185, '成本': 2.85, '最大容积_L': 24.67}\n",
      "func time spend info: [func: one_goods_one_box_package] [cost: 0.970 ms] [args: ('EP53', '107==>12*2*8;')]  [kwargs: {}]\n"
     ]
    }
   ],
   "source": [
    "@log_func_time\n",
    "def one_goods_one_box_package(box_name, goods_str):\n",
    "    print('=====================================')\n",
    "    mydict = {}\n",
    "    one_order_str = goods_str.rstrip(';')\n",
    "    quantity = int(one_order_str.split('==>')[0])\n",
    "    goods_shape = one_order_str.split('==>')[1]\n",
    "    [goods_l,goods_w,goods_h] = [int(i)*10 for i in goods_shape.split('*')]\n",
    "    print('数量',quantity, '尺寸',[goods_l,goods_w,goods_h], '单位：cm')\n",
    "    box_dict = container_b20.get(box_name)\n",
    "#     print('container信息：', box_dict)\n",
    "    \n",
    "    ########===================== 不可倒放的情况下，有两种放法\n",
    "    mydict['最大层数'] = box_dict.get('有效高')//(goods_h)\n",
    "    \n",
    "    mydict['长长数'] = box_dict.get('长')//goods_l  # 货物的长对应container的长\n",
    "    mydict['宽宽数'] = box_dict.get('宽')//goods_w\n",
    "    mydict['宽长数'] = box_dict.get('宽')//goods_l\n",
    "    mydict['长宽数'] = box_dict.get('长')//goods_w\n",
    "    \n",
    "    mydict['长长结余量']= box_dict.get('长')%goods_l  # 长长放法长度还剩余的量\n",
    "    mydict['宽宽结余量']= box_dict.get('宽')%goods_w\n",
    "    mydict['长宽结余量']= box_dict.get('长')%goods_w\n",
    "    mydict['宽长结余量']= box_dict.get('宽')%goods_l\n",
    "    \n",
    "    #  长长放法长度剩余量，剩余的container长度可以放几个货宽\n",
    "    mydict['长长结余量宽数']=mydict['长长结余量']//goods_w  # 长长放法长度剩余量，可放宽数\n",
    "    mydict['最终长结余']=mydict['长长结余量']%goods_w  # 长长放法长度剩余量，可放宽数\n",
    "    mydict['长长结余']=[mydict['最终长结余'], mydict['宽宽结余量']]\n",
    "    \n",
    "    #  宽长放法宽度剩余量，剩余的container宽度可以放几个货宽\n",
    "    mydict['宽长结余量宽数']=mydict['宽长结余量']//goods_l \n",
    "    mydict['最终宽结余']=mydict['宽长结余量']%goods_l\n",
    "    mydict['长宽结余']=[mydict['长宽结余量'], mydict['最终宽结余']]\n",
    "    \n",
    "    ## 长长放法\n",
    "    mydict['长长放法-层最大数量'] = mydict['长长数']*mydict['宽宽数']+mydict['宽长数']*mydict['长长结余量宽数']\n",
    "    max_h_v_num =  (box_dict.get('最大容积_L')*1000000/(mydict['长长放法-层最大数量']*goods_l*goods_w))//goods_h # 从体积角度出发的最大高度\n",
    "    max_num = min(max_h_v_num, mydict['最大层数'])\n",
    "    print('长长---从体积和高度角度出发的最大层数', [max_h_v_num, mydict['最大层数']])\n",
    "    mydict['长长放法-体最大数量'] = max_num*mydict['长长放法-层最大数量'] \n",
    "    \n",
    "    ## 长宽放法\n",
    "    mydict['长宽放法-层最大数量'] = mydict['长宽数']*mydict['宽长数']+mydict['长长数']*mydict['宽长结余量宽数']\n",
    "    max_h_v_num2 =  (box_dict.get('最大容积_L')*1000000/(mydict['长宽放法-层最大数量']*goods_l*goods_w))//goods_h # 从体积角度出发的最大高度\n",
    "    max_num2 = min(max_h_v_num2, mydict['最大层数'])\n",
    "    print('长宽---从体积和高度角度出发的最大层数', [max_h_v_num2, mydict['最大层数']])\n",
    "    mydict['长宽放法-体最大数量'] = max_num2*mydict['长宽放法-层最大数量'] \n",
    "#     for k,v in mydict.items():\n",
    "#         print(k, '===>', v)\n",
    "    \n",
    "    print('长长放法,长宽放法,最大数量对比')\n",
    "    print(mydict['长长放法-体最大数量'], mydict['长宽放法-体最大数量'],\n",
    "          '长宽结余量===>',mydict['长长结余'],mydict['长宽结余'])\n",
    "    print('container信息：', box_dict)\n",
    "    return mydict['长长放法-体最大数量'], mydict['长宽放法-体最大数量']\n",
    "\n",
    "    \n",
    "res1 = one_goods_one_box_package('EP53', '107==>12*8*2;')\n",
    "########## 假设可以倒放\n",
    "res2 = one_goods_one_box_package('EP53', '107==>2*8*12;')  # 长高互换\n",
    "res3 = one_goods_one_box_package('EP53', '107==>12*2*8;')  # 宽高互换\n"
   ]
  },
  {
   "cell_type": "code",
   "execution_count": 43,
   "id": "5eb608a0",
   "metadata": {},
   "outputs": [],
   "source": [
    "@log_func_time\n",
    "def one_goods_multi_box_package(goods_str):\n",
    "    '''\n",
    "    比较简单，重点考虑箱子怎么选，是选两个中的还是一大一小？\n",
    "    '''\n",
    "    # pass"
   ]
  },
  {
   "cell_type": "code",
   "execution_count": null,
   "id": "b7aef4aa",
   "metadata": {},
   "outputs": [],
   "source": [
    "@log_func_time\n",
    "def multi_goods_one_box_package(goods_str):\n",
    "    '''\n",
    "    ### 先放什么后放什么？\n",
    "    '''\n",
    "    # pass"
   ]
  },
  {
   "cell_type": "code",
   "execution_count": null,
   "id": "c5ccf9d8",
   "metadata": {},
   "outputs": [],
   "source": [
    "@log_func_time\n",
    "def multi_goods_two_type_box_and_one_type_box_fix_package(goods_str):\n",
    "    '''\n",
    "    ### 多物品并且其中一种类型箱子固定\n",
    "    '''\n",
    "    # pass"
   ]
  },
  {
   "cell_type": "code",
   "execution_count": null,
   "id": "e87ec967",
   "metadata": {},
   "outputs": [],
   "source": []
  }
 ],
 "metadata": {
  "kernelspec": {
   "display_name": "Python 3 (ipykernel)",
   "language": "python",
   "name": "python3"
  },
  "language_info": {
   "codemirror_mode": {
    "name": "ipython",
    "version": 3
   },
   "file_extension": ".py",
   "mimetype": "text/x-python",
   "name": "python",
   "nbconvert_exporter": "python",
   "pygments_lexer": "ipython3",
   "version": "3.7.7"
  }
 },
 "nbformat": 4,
 "nbformat_minor": 5
}
