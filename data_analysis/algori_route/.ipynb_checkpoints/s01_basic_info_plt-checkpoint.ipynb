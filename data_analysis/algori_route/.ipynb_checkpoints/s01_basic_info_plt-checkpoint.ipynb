{
 "cells": [
  {
   "cell_type": "code",
   "execution_count": 12,
   "id": "07e9b059",
   "metadata": {},
   "outputs": [],
   "source": [
    "import sys\n",
    "sys.path.append('../..')\n",
    "import os\n",
    "import json\n",
    "import config\n",
    "import numpy as np\n",
    "import pandas as pd\n",
    "import seaborn as sns\n",
    "import matplotlib.pyplot as plt\n",
    "import pylab as pl\n",
    "plt.rcParams['font.sans-serif'] = ['SimHei']                        # 用来正常显示中文标签\n",
    "plt.rcParams['axes.unicode_minus'] = False                          # 用来正常显示负号\n",
    "\n",
    "myname = 's01_basic_info_plt.py' ########## 这里要修改城文件名\n",
    "df = pd.read_excel(os.path.join(config.ROOT_PATH, 'data_analysis/说明.xlsx'))\n",
    "df = df[df['code_name']==myname]\n",
    "res_dict = dict(zip(df.columns, df.iloc[0]))\n",
    "res_path = os.path.join(config.f_path['data_analysis_res'], '%s/%s'%(res_dict['res_folder'], res_dict['res_file']))\n",
    "if os.path.exists(res_path) is False:os.makedirs(res_path)\n",
    "f2 = open(os.path.join(res_path,config.img_pretext), 'w', encoding='utf-8')\n",
    "mydict = {}"
   ]
  },
  {
   "cell_type": "code",
   "execution_count": 13,
   "id": "e9863fa7",
   "metadata": {},
   "outputs": [
    {
     "name": "stdout",
     "output_type": "stream",
     "text": [
      "{'cn_en_dict': {'快递': '4', '高铁': '8', '沪皖专线': '11', '生生专车': '5', '生生专人': '6', '专线': '7', '德邦': '12', '大巴': '3', '航空': '1', '中铁': '2', '物流': '9', '京沪专线': '10', '沪鄂专线': '13'}, 'en_cn_dict': {'4': '快递', '8': '高铁', '11': '沪皖专线', '5': '生生专车', '6': '生生专人', '7': '专线', '12': '德邦', '3': '大巴', '1': '航空', '2': '中铁', '9': '物流', '10': '京沪专线', '13': '沪鄂专线'}}\n"
     ]
    }
   ],
   "source": [
    "p_dict = {\n",
    "    'route_db_region_connection_list':os.path.join(config.f_path['data_json'], 'route_db_region_connection_list.json'),\n",
    "    'route_real_region_connection_list':os.path.join(config.f_path['data_json'], 'route_real_region_connection_list.json'),\n",
    "    'route_region_lon_lat_dict':os.path.join(config.f_path['data_json'], 'route_region_lon_lat_dict.json'),\n",
    "    'route_type':os.path.join(config.f_path['data_json'], 'route_type.json'),\n",
    "}\n",
    "\n",
    "j_dict = {}\n",
    "for k,v in p_dict.items():\n",
    "    with open(v, 'r', encoding='utf8')as fp: j_dict[k] =json.load(fp)  \n",
    "print(j_dict['route_type'])"
   ]
  },
  {
   "cell_type": "code",
   "execution_count": 14,
   "id": "b3f2ec05",
   "metadata": {},
   "outputs": [
    {
     "data": {
      "text/plain": [
       "<Figure size 432x288 with 0 Axes>"
      ]
     },
     "metadata": {},
     "output_type": "display_data"
    }
   ],
   "source": [
    "\n",
    "fname = '01路由节点的分布'\n",
    "rows = []\n",
    "for k,v in j_dict['route_region_lon_lat_dict'].items():\n",
    "    rows.append([k, v['地区名'],v['经度'],v['纬度']])\n",
    "df = pd.DataFrame(rows, columns='地区ID,地区名,经度,纬度'.split(','))\n",
    "plt.scatter(df['经度'],df['纬度'], alpha=0.3, cmap='viridis')\n",
    "plt.tight_layout()\n",
    "plt.savefig(os.path.join(res_path,'%s.png'%fname), dpi=150)\n",
    "plt.clf()\n",
    "\n",
    "df.to_excel(os.path.join(res_path,'%s.xlsx'%fname), index=False)\n",
    "with open(os.path.join(res_path,'%s.py'%fname), 'w', encoding='utf-8') as fp:\n",
    "    print('历史数据种出现的路由节点的分布', file=fp)\n",
    "\n",
    "############################################# 地区的id对应的中文名\n",
    "region_id_cn_dict = dict(zip(df['地区ID'].astype(int), df['地区名']))\n",
    "region_cn_id_dict = dict(zip(df['地区名'], df['地区ID'].astype(int)))"
   ]
  },
  {
   "cell_type": "code",
   "execution_count": 15,
   "id": "625e1c0a",
   "metadata": {},
   "outputs": [
    {
     "data": {
      "text/plain": [
       "<Figure size 432x288 with 0 Axes>"
      ]
     },
     "metadata": {},
     "output_type": "display_data"
    }
   ],
   "source": [
    "fname = '02路由连接的频次排序'\n",
    "\n",
    "rows = []\n",
    "for k,v in j_dict['route_real_region_connection_list'].items():\n",
    "    s_region_name = region_id_cn_dict.get(v['出港地区ID'])\n",
    "    e_region_name = region_id_cn_dict.get(v['到港地区ID'])\n",
    "    if s_region_name is None:\n",
    "        s_region_name = v['出港地区ID']\n",
    "    if e_region_name is None:\n",
    "        e_region_name = v['到港地区ID']\n",
    "    row_i = [s_region_name,e_region_name,v['order_num'],','.join(v['跑过的路由类型'])]\n",
    "    rows.append(row_i)\n",
    "\n",
    "df = pd.DataFrame(rows, columns='出港地区,到港地区,order_num,跑过的路由类型'.split(','))\n",
    "df = df[df['出港地区']!=-1]\n",
    "df = df.sort_values('order_num', ascending=False).reset_index(drop=True)\n",
    "# df['order_num'].plot()\n",
    "plt.plot(df.index,df['order_num'])\n",
    "plt.tight_layout()\n",
    "plt.savefig(os.path.join(res_path,'%s.png'%fname), dpi=150)\n",
    "plt.clf()\n",
    "\n",
    "df.to_excel(os.path.join(res_path,'%s.xlsx'%fname), index=False)\n",
    "with open(os.path.join(res_path,'%s.py'%fname), 'w', encoding='utf-8') as fp:\n",
    "    print('出港和到港路由频次排序', file=fp)\n",
    "\n"
   ]
  },
  {
   "cell_type": "code",
   "execution_count": 16,
   "id": "53e5173e",
   "metadata": {},
   "outputs": [
    {
     "data": {
      "text/plain": [
       "<Figure size 432x288 with 0 Axes>"
      ]
     },
     "metadata": {},
     "output_type": "display_data"
    }
   ],
   "source": [
    "fname = '03到港非济南，前50名路由连接'\n",
    "df2 = df[df['到港地区']!='济南市'].reset_index(drop=True)\n",
    "N = min(50, df2.shape[0])\n",
    "df1 = df2[:N]\n",
    "# df['order_num'].plot()\n",
    "plt.bar(df1.index,df1['order_num'])\n",
    "plt.tight_layout()\n",
    "plt.savefig(os.path.join(res_path,'%s.png'%fname), dpi=150)\n",
    "plt.clf()\n",
    "\n",
    "df1.to_excel(os.path.join(res_path,'%s.xlsx'%fname), index=False)\n",
    "with open(os.path.join(res_path,'%s.py'%fname), 'w', encoding='utf-8') as fp:\n",
    "    print('出港和到港路由频次排序', file=fp)"
   ]
  },
  {
   "cell_type": "code",
   "execution_count": 17,
   "id": "6fd1b0ef",
   "metadata": {},
   "outputs": [
    {
     "data": {
      "text/plain": [
       "<Figure size 432x288 with 0 Axes>"
      ]
     },
     "metadata": {},
     "output_type": "display_data"
    }
   ],
   "source": [
    "fname = '04路由连接频次统计'\n",
    "vol_list = [10,20,30,50,100,200,350,500,750,1000]\n",
    "num_p_list = []\n",
    "rows = []\n",
    "for vol in vol_list:\n",
    "    df_small_vol = df[df['order_num']<=vol].reset_index(drop=True)\n",
    "    percent_i = round(df_small_vol.shape[0]/df.shape[0],3)\n",
    "    vol_small_L = percent_i\n",
    "    num_p_list.append(vol_small_L)\n",
    "    rows.append([vol, percent_i])\n",
    "dft = pd.DataFrame(rows, columns='连接小于此数量,节点连接占比'.split(\",\"))\n",
    "dft['连接小于此数量'] = dft['连接小于此数量'].astype(int)\n",
    "dft.to_excel(os.path.join(res_path, '%s.xlsx'%fname), index=False)\n",
    "#     print('尺寸小于%sL的货物数量占比:'%str(vol), vol_small_L)\n",
    "\n",
    "plt.plot(vol_list, num_p_list)\n",
    "plt.scatter(vol_list, num_p_list)\n",
    "break_xy = (0,0)\n",
    "for xy in zip(vol_list, num_p_list):\n",
    "    if xy[1]>=0.8:\n",
    "        plt.annotate(\"(%s,%s)\" % xy, xy=xy, xytext=(-20, 10), textcoords='offset points', \n",
    "                     bbox=dict(boxstyle='round,pad=0.5', fc='yellow', ec='k', lw=1, alpha=0.5))\n",
    "        break_xy = xy\n",
    "    else:\n",
    "        plt.annotate(\"(%s,%s)\" % xy, xy=xy, xytext=(-20, 10), textcoords='offset points', \n",
    "                     bbox=dict(boxstyle='round,pad=0.5', fc='green', ec='k', lw=1, alpha=0.5))\n",
    "        break_xy = xy        \n",
    "plt.tight_layout()\n",
    "plt.savefig(os.path.join(res_path,'%s.png'%fname), dpi=150)\n",
    "plt.clf()\n",
    "\n",
    "with open(os.path.join(res_path,'%s.py'%fname), 'w', encoding='utf-8') as fp:\n",
    "    print('路由连接频次统计', file=fp)\n"
   ]
  },
  {
   "cell_type": "code",
   "execution_count": 18,
   "id": "bcc01254",
   "metadata": {},
   "outputs": [
    {
     "name": "stdout",
     "output_type": "stream",
     "text": [
      "order_to_id =========> int64\n",
      "order_cu_id =========> int64\n",
      "order_cp_id =========> int64\n",
      "order_to_timelimit =========> int8\n",
      "order_to_temperature =========> int8\n",
      "order_start_region_id =========> int32\n",
      "order_stop_region_id =========> int32\n",
      "order_to_status =========> int8\n",
      "order_logistics_ol_pickup_time =========> float64\n",
      "order_logistics_ol_delivery_time =========> float64\n",
      "order_material_sto_id =========> object\n",
      "stock_stt_id =========> object\n",
      "stock_sto_name =========> object\n",
      "order_logistics_DT_取件时间 =========> object\n",
      "order_logistics_DT_派件时间 =========> object\n",
      "order_logistics_取派时间差(天) =========> float64\n",
      "order_星期几 =========> int8\n",
      "order_年份 =========> int16\n",
      "order_小时 =========> int8\n",
      "order_12点前取件 =========> int8\n",
      "order_17点前取件 =========> int8\n",
      "order_worksheet_ow_id =========> int64\n",
      "order_worksheet_region_name =========> object\n",
      "order_worksheet_ow_type =========> int8\n",
      "order_worksheet_ow_adderss =========> object\n",
      "order_worksheet_region_id =========> int32\n",
      "order_worksheet_di_id =========> int32\n",
      "dispatch_start_region_id =========> int32\n",
      "dispatch_stop_region_id =========> int32\n",
      "dispatch_detail_ro_id =========> int32\n",
      "route_rt_id =========> int32\n",
      "route_ro_status =========> int8\n",
      "route_start_region_id =========> int32\n",
      "route_stop_region_id =========> int32\n"
     ]
    }
   ],
   "source": [
    "df3 = pd.read_pickle(os.path.join(config.f_path['data_clean_pickle'], 'route_order_info_merge.pickle'))\n",
    "for col in df3.columns.tolist():\n",
    "    print(col,'=========>', df3[col].dtypes)"
   ]
  },
  {
   "cell_type": "code",
   "execution_count": 29,
   "id": "a9e3ebdb",
   "metadata": {},
   "outputs": [
    {
     "name": "stdout",
     "output_type": "stream",
     "text": [
      "(5946054, 13)\n",
      "(1319884, 13)\n"
     ]
    }
   ],
   "source": [
    "#### 选择跟订单相关的列分析\n",
    "order_col_list = [\n",
    "    'order_to_id',\n",
    "    'order_cu_id',\n",
    "    'order_to_timelimit',\n",
    "    'order_to_temperature',\n",
    "    'order_start_region_id',\n",
    "    'order_stop_region_id',\n",
    "    'order_to_status',\n",
    "    'order_logistics_取派时间差(天)',\n",
    "    'order_星期几',\n",
    "    'order_年份',\n",
    "    'order_小时',\n",
    "    'order_12点前取件',\n",
    "    'order_17点前取件',    \n",
    "\n",
    "]\n",
    "order_df = df3[order_col_list]\n",
    "print(order_df.shape)\n",
    "order_df = order_df.drop_duplicates()\n",
    "print(order_df.shape)\n",
    "timelimit_dict = {\n",
    "    0:'12小时',\n",
    "    1:'24小时',\n",
    "    2:'36小时',\n",
    "    3:'48小时',\n",
    "    4:'t52小时'\n",
    "}\n",
    "order_df = order_df.sort_values('order_to_timelimit').reset_index(drop=True)\n",
    "order_df['order_to_timelimit']=order_df['order_to_timelimit'].map(timelimit_dict)  # 保存所有箱子的信息"
   ]
  },
  {
   "cell_type": "code",
   "execution_count": 30,
   "id": "97fdb50b",
   "metadata": {},
   "outputs": [],
   "source": [
    "x1 = order_df[order_df['order_logistics_取派时间差(天)']<0].shape[0]\n",
    "y1 = round(100*x1/order_df.shape[0],4)\n",
    "\n",
    "mydict['脏数据,取派时间差小于0'] = '共{0}条, 占比{0}(%)'.format(x1,y1)\n",
    "\n",
    "x2 = order_df[order_df['order_logistics_取派时间差(天)']>10].shape[0]\n",
    "y2 = round(100*x2/order_df.shape[0],4)\n",
    "mydict['脏数据,取派时间差大于10天'] = '共{0}条, 占比{1}(%)'.format(x2,y2)\n",
    "\n",
    "x3 = order_df[order_df['order_logistics_取派时间差(天)']>5].shape[0]\n",
    "y3 = round(100*(x3-x2)/order_df.shape[0],4)\n",
    "mydict['不考虑,取派时间差大于5天，小于10天'] = '共{0}条, 占比{1}(%)'.format(x3-x2,y3)\n",
    "mydict['总共忽略的订单占比（%）'] = '共{0}'.format(round(y1+y2+y3,3))\n"
   ]
  },
  {
   "cell_type": "code",
   "execution_count": 31,
   "id": "a11dbd3f",
   "metadata": {},
   "outputs": [
    {
     "data": {
      "text/plain": [
       "<Figure size 432x288 with 0 Axes>"
      ]
     },
     "metadata": {},
     "output_type": "display_data"
    }
   ],
   "source": [
    "\n",
    "fname = '05volin图_x运送时限_y取派时间'\n",
    "\n",
    "### 选择的订单\n",
    "order_df_s = order_df[(order_df['order_logistics_取派时间差(天)']<5)&(order_df['order_logistics_取派时间差(天)']>0)].reset_index(drop=True)\n",
    "sns.violinplot(x=\"order_to_timelimit\", y=\"order_logistics_取派时间差(天)\", data=order_df_s, palette='Set2')\n",
    "# sns.stripplot(x=\"order_to_timelimit\", y=\"order_logistics_取派时间差(天)\",data=order_df_s, jitter=True,palette=sns.hls_palette(8, l=.5, s=.8))\n",
    "# df1.to_excel(os.path.join(res_path,'%s.xlsx'%fname), index=False)\n",
    "plt.tight_layout()\n",
    "plt.savefig(os.path.join(res_path,'%s.png'%fname), dpi=150)\n",
    "plt.clf()\n",
    "\n",
    "with open(os.path.join(res_path,'%s.py'%fname), 'w', encoding='utf-8') as fp:\n",
    "    print('volin图_x运送时限_y取派时间', file=fp)"
   ]
  },
  {
   "cell_type": "code",
   "execution_count": 37,
   "id": "256982ed",
   "metadata": {},
   "outputs": [
    {
     "data": {
      "text/plain": [
       "<Figure size 432x288 with 0 Axes>"
      ]
     },
     "metadata": {},
     "output_type": "display_data"
    }
   ],
   "source": [
    "fname = '06_中午12点前收货'\n",
    "sns.violinplot(x='order_to_timelimit', y='order_logistics_取派时间差(天)', hue='order_12点前取件', data=order_df_s, split=True, inner='quartile',palette=['green', 'orange'])\n",
    "plt.tight_layout()\n",
    "plt.savefig(os.path.join(res_path,'%s.png'%fname), dpi=150)\n",
    "plt.clf()\n",
    "with open(os.path.join(res_path,'%s.py'%fname), 'w', encoding='utf-8') as fp:\n",
    "    print('06_中午12点前收货', file=fp)"
   ]
  },
  {
   "cell_type": "code",
   "execution_count": 36,
   "id": "fd36cb72",
   "metadata": {},
   "outputs": [
    {
     "data": {
      "text/plain": [
       "<Figure size 432x288 with 0 Axes>"
      ]
     },
     "metadata": {},
     "output_type": "display_data"
    }
   ],
   "source": [
    "fname = '06_晚上17点前取件'\n",
    "sns.violinplot(x='order_to_timelimit', y='order_logistics_取派时间差(天)', hue='order_17点前取件', \n",
    "               data=order_df_s, split=True, inner='quartile',palette=['purple', 'cyan'])\n",
    "plt.tight_layout()\n",
    "plt.savefig(os.path.join(res_path,'%s.png'%fname), dpi=150)\n",
    "plt.clf()\n",
    "with open(os.path.join(res_path,'%s.py'%fname), 'w', encoding='utf-8') as fp:\n",
    "    print('order_17点前取件', file=fp)"
   ]
  },
  {
   "cell_type": "code",
   "execution_count": 32,
   "id": "5bbc0079",
   "metadata": {},
   "outputs": [],
   "source": [
    "for k,v in mydict.items():\n",
    "    print('============================',k, file=f2)\n",
    "    print(v, file=f2)\n",
    "f2.close()\n",
    "plt.close()"
   ]
  }
 ],
 "metadata": {
  "kernelspec": {
   "display_name": "Python 3 (ipykernel)",
   "language": "python",
   "name": "python3"
  },
  "language_info": {
   "codemirror_mode": {
    "name": "ipython",
    "version": 3
   },
   "file_extension": ".py",
   "mimetype": "text/x-python",
   "name": "python",
   "nbconvert_exporter": "python",
   "pygments_lexer": "ipython3",
   "version": "3.7.7"
  }
 },
 "nbformat": 4,
 "nbformat_minor": 5
}
