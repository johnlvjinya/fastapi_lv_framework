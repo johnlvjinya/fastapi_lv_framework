{
 "cells": [
  {
   "cell_type": "code",
   "execution_count": 1,
   "id": "aad7a805",
   "metadata": {},
   "outputs": [],
   "source": [
    "import sys\n",
    "sys.path.append('../..')\n",
    "import os\n",
    "import json\n",
    "import config\n",
    "import numpy as np\n",
    "import pandas as pd\n",
    "import seaborn as sns\n",
    "import matplotlib.pyplot as plt\n",
    "import pylab as pl\n",
    "plt.rcParams['font.sans-serif'] = ['SimHei']                        # 用来正常显示中文标签\n",
    "plt.rcParams['axes.unicode_minus'] = False                          # 用来正常显示负号\n",
    "\n",
    "myname = 's02_analysis_one_collection.py' ########## 这里要修改城文件名\n",
    "df = pd.read_excel(os.path.join(config.ROOT_PATH, 'data_analysis/说明.xlsx'))\n",
    "df = df[df['code_name']==myname]\n",
    "res_dict = dict(zip(df.columns, df.iloc[0]))\n",
    "res_path = os.path.join(config.f_path['data_analysis_res'], '%s/%s'%(res_dict['res_folder'], res_dict['res_file']))\n",
    "if os.path.exists(res_path) is False:os.makedirs(res_path)\n",
    "f2 = open(os.path.join(res_path,config.img_pretext), 'w', encoding='utf-8')\n",
    "mydict = {}"
   ]
  },
  {
   "cell_type": "code",
   "execution_count": 2,
   "id": "fb6663c6",
   "metadata": {},
   "outputs": [
    {
     "name": "stdout",
     "output_type": "stream",
     "text": [
      "['地区ID', '地区名', '经度', '纬度']\n",
      "['出港地区', '到港地区', 'order_num', '跑过的路由类型']\n",
      "十大出港，到港城市路由\n",
      "北京市 110000 ===> 上海市 310000\n",
      "上海市 310000 ===> 北京市 110000\n",
      "上海市 310000 ===> 广州市 440100\n",
      "广州市 440100 ===> 上海市 310000\n",
      "南京市 320100 ===> 上海市 310000\n",
      "长春市 220100 ===> 上海市 310000\n",
      "杭州市 330100 ===> 上海市 310000\n",
      "天津市 120000 ===> 上海市 310000\n",
      "郑州市 410100 ===> 上海市 310000\n",
      "杭州市 330100 ===> 北京市 110000\n"
     ]
    }
   ],
   "source": [
    "p1 = os.path.join(config.f_path['data_analysis_res'], '路由推荐/01路由基本分析/01路由节点的分布.xlsx')\n",
    "df1 = pd.read_excel(p1)\n",
    "print(df1.columns.tolist())\n",
    "region_dict = dict(zip(df1['地区名'], df1['地区ID']))\n",
    "\n",
    "p2 = os.path.join(config.f_path['data_analysis_res'], '路由推荐/01路由基本分析/03到港非济南，前50名路由连接.xlsx')\n",
    "df2 = pd.read_excel(p2)\n",
    "print(df2.columns.tolist())\n",
    "print('十大出港，到港城市路由')\n",
    "print('十大出港，到港城市路由',file=f2)\n",
    "for i,r in df2[:10].iterrows():\n",
    "    print(r['出港地区'], region_dict.get(r['出港地区']),'===>',r['到港地区'], region_dict.get(r['到港地区']),)\n",
    "    print(r['出港地区'], region_dict.get(r['出港地区']),'===>',r['到港地区'], region_dict.get(r['到港地区']),file=f2)   "
   ]
  },
  {
   "cell_type": "code",
   "execution_count": 3,
   "id": "80cf234c",
   "metadata": {},
   "outputs": [
    {
     "name": "stdout",
     "output_type": "stream",
     "text": [
      "1\n"
     ]
    }
   ],
   "source": [
    "def plot_analysis_one_collection(c1='北京市',c2='上海市'):\n",
    "    c1_id = region_dict.get(c1)\n",
    "    c2_id = region_dict.get(c2)\n",
    "    region_route_str = '%s--%s.pickle'%(str(c1_id), str(c2_id))\n",
    "    df = pd.read_pickle(os.path.join(config.f_path['route_region_df'], region_route_str))\n",
    "    ########## 清晰时间差脏数据\n",
    "    df = df[(df['order_logistics_取派时间差(天)']<5)\n",
    "                          &(df['order_logistics_取派时间差(天)']>0)].reset_index(drop=True)\n",
    "    \n",
    "    with open(os.path.join(config.f_path['data_json'],'route_type.json'), 'r', encoding='utf8')as fp: \n",
    "        route_type_dict =json.load(fp)\n",
    "    route_en_cn_dict = route_type_dict.get('en_cn_dict')    \n",
    "    df['route_rt_id']=df['route_rt_id'].astype(str).map(route_en_cn_dict)  # 保存所有箱子的信息\n",
    "    # 运送时限,0：12小时,1：24小时,2：36小时,3：48小时,4：52小时\n",
    "    df['order_to_timelimit']=df['order_to_timelimit'].astype(str).map(\n",
    "        {'0':'12小时','1':'24小时','3':'48小时','4':'52小时'})\n",
    "    df = df.sort_values('order_to_timelimit').reset_index(drop=True)  # 保存所有箱子的信息\n",
    "    print(df.shape[0])\n",
    "#     df.to_excel(os.path.join(config.ROOT_PATH,'test.xlsx'),  index=False)\n",
    "    \n",
    "    ################################################################################## \n",
    "    fname = '%s_%s_01按年份对比'%(c1, c2)\n",
    "    sns.violinplot(x='order_年份', y='order_logistics_取派时间差(天)',data=df,inner='quartile')\n",
    "    plt.tight_layout()\n",
    "    plt.savefig(os.path.join(res_path,'%s.png'%fname), dpi=150)\n",
    "    plt.clf()\n",
    "    with open(os.path.join(res_path,'%s.py'%fname), 'w', encoding='utf-8') as fp:\n",
    "        print('02_按年份对比,对比可以看出每年的时间基本稳定', file=fp)\n",
    "        \n",
    "    ##################################################################################     \n",
    "    fname = '%s_%s_02对比路由方式'%(c1, c2)\n",
    "    print(df['order_logistics_取派时间差(天)'].max(), df['order_logistics_取派时间差(天)'].min())\n",
    "    sns.violinplot(x='route_rt_id', y='order_logistics_取派时间差(天)',data=df,inner='quartile')\n",
    "    sns.stripplot(x=\"route_rt_id\", y=\"order_logistics_取派时间差(天)\",data=df,\n",
    "                  jitter=True,palette=sns.hls_palette(8, l=.5, s=.8))\n",
    "    plt.ylim(-0.5, 5.5)\n",
    "    plt.tight_layout()\n",
    "    plt.savefig(os.path.join(res_path,'%s.png'%fname), dpi=150)\n",
    "    plt.clf()\n",
    "    with open(os.path.join(res_path,'%s.py'%fname), 'w', encoding='utf-8') as fp:\n",
    "        print('02对比路由方式', file=fp)\n",
    "\n",
    "    ################################################################################## \n",
    "    try:\n",
    "        fname = '%s_%s_03中午12点前收货'%(c1, c2)\n",
    "        sns.violinplot(x='order_to_timelimit', y='order_logistics_取派时间差(天)', hue='order_12点前取件', \n",
    "                       data=df, split=True, inner='quartile',palette=['green', 'orange'])\n",
    "        plt.tight_layout()\n",
    "        plt.savefig(os.path.join(res_path,'%s.png'%fname), dpi=150)\n",
    "        plt.clf()\n",
    "        with open(os.path.join(res_path,'%s.py'%fname), 'w', encoding='utf-8') as fp:\n",
    "            print('01_中午12点前收货', file=fp)\n",
    "    except:\n",
    "        pass\n",
    "        \n",
    "    ##################################################################################  \n",
    "    try:\n",
    "        fname = '%s_%s_04晚上17点前收货'%(c1, c2)\n",
    "        sns.violinplot(x='order_to_timelimit', y='order_logistics_取派时间差(天)', hue='order_17点前取件', \n",
    "                       data=df, split=True, inner='quartile',palette=['purple', 'cyan'])\n",
    "        plt.tight_layout()\n",
    "        plt.savefig(os.path.join(res_path,'%s.png'%fname), dpi=150)\n",
    "        plt.clf()\n",
    "        with open(os.path.join(res_path,'%s.py'%fname), 'w', encoding='utf-8') as fp:\n",
    "            print('02_晚上17点前收货', file=fp) \n",
    "\n",
    "        fname = '%s_%s_05对比温度'%(c1, c2)\n",
    "        print(df['order_logistics_取派时间差(天)'].max(), df['order_logistics_取派时间差(天)'].min())\n",
    "        sns.violinplot(x='order_to_temperature', y='order_logistics_取派时间差(天)',data=df,inner='quartile')\n",
    "        sns.stripplot(x=\"order_to_temperature\", y=\"order_logistics_取派时间差(天)\",data=df,\n",
    "                      jitter=True,palette=sns.hls_palette(8, l=.5, s=.8))\n",
    "        plt.ylim(-0.5, 5.5)\n",
    "        plt.tight_layout()\n",
    "        plt.savefig(os.path.join(res_path,'%s.png'%fname), dpi=150)\n",
    "        plt.clf()\n",
    "        with open(os.path.join(res_path,'%s.py'%fname), 'w', encoding='utf-8') as fp:\n",
    "            print('02对比温度', file=fp)\n",
    "    except:\n",
    "        pass\n",
    "    \n",
    "    fname = '%s_%s_06对比order_cu_id'%(c1, c2)\n",
    "    print(df['order_logistics_取派时间差(天)'].max(), df['order_logistics_取派时间差(天)'].min())\n",
    "#     sns.violinplot(x='order_cu_id', y='order_logistics_取派时间差(天)',data=df,inner='quartile')\n",
    "    sns.stripplot(x=\"order_cu_id\", y=\"order_logistics_取派时间差(天)\",data=df,\n",
    "                  jitter=True,palette=sns.hls_palette(8, l=.5, s=.8))\n",
    "    plt.ylim(-0.5, 5.5)\n",
    "    plt.xticks([])\n",
    "    plt.tight_layout()\n",
    "    plt.savefig(os.path.join(res_path,'%s.png'%fname), dpi=150)\n",
    "    plt.clf()\n",
    "    with open(os.path.join(res_path,'%s.py'%fname), 'w', encoding='utf-8') as fp:\n",
    "        print('02对比温度', file=fp)\n",
    "        \n",
    "    fname = '%s_%s_07对比order_星期几'%(c1, c2)\n",
    "    print(df['order_logistics_取派时间差(天)'].max(), df['order_logistics_取派时间差(天)'].min())\n",
    "    sns.violinplot(x='order_星期几', y='order_logistics_取派时间差(天)',data=df,inner='quartile')\n",
    "    sns.stripplot(x=\"order_星期几\", y=\"order_logistics_取派时间差(天)\",data=df,\n",
    "                  jitter=True,palette=sns.hls_palette(8, l=.5, s=.8))\n",
    "    plt.ylim(-0.5, 5.5)\n",
    "    plt.tight_layout()\n",
    "    plt.savefig(os.path.join(res_path,'%s.png'%fname), dpi=150)\n",
    "    plt.clf()\n",
    "    with open(os.path.join(res_path,'%s.py'%fname), 'w', encoding='utf-8') as fp:\n",
    "        print('02对比温度', file=fp)    \n",
    "        \n",
    "    fname = '%s_%s_08对比order_小时'%(c1, c2)\n",
    "    print(df['order_logistics_取派时间差(天)'].max(), df['order_logistics_取派时间差(天)'].min())\n",
    "    sns.violinplot(x='order_小时', y='order_logistics_取派时间差(天)',data=df,inner='quartile')\n",
    "    sns.stripplot(x=\"order_小时\", y=\"order_logistics_取派时间差(天)\",data=df,\n",
    "                  jitter=True,palette=sns.hls_palette(8, l=.5, s=.8))\n",
    "    plt.ylim(-0.5, 5.5)\n",
    "    plt.tight_layout()\n",
    "    plt.savefig(os.path.join(res_path,'%s.png'%fname), dpi=150)\n",
    "    plt.clf()\n",
    "    with open(os.path.join(res_path,'%s.py'%fname), 'w', encoding='utf-8') as fp:\n",
    "        print('02对比温度', file=fp)     \n",
    "    \n",
    "    \n",
    "print(df.shape[0])\n"
   ]
  },
  {
   "cell_type": "code",
   "execution_count": 7,
   "id": "d9f75831",
   "metadata": {},
   "outputs": [
    {
     "name": "stdout",
     "output_type": "stream",
     "text": [
      "59079\n",
      "4.990277777777778 0.004861111111111111\n",
      "4.990277777777778 0.004861111111111111\n",
      "4.990277777777778 0.004861111111111111\n",
      "4.990277777777778 0.004861111111111111\n",
      "4.990277777777778 0.004861111111111111\n",
      "30728\n",
      "4.998611111111111 0.05625\n",
      "4.998611111111111 0.05625\n",
      "4.998611111111111 0.05625\n",
      "4.998611111111111 0.05625\n",
      "4.998611111111111 0.05625\n",
      "24459\n",
      "4.980555555555555 0.05694444444444444\n",
      "4.980555555555555 0.05694444444444444\n",
      "4.980555555555555 0.05694444444444444\n",
      "4.980555555555555 0.05694444444444444\n",
      "4.980555555555555 0.05694444444444444\n"
     ]
    },
    {
     "name": "stderr",
     "output_type": "stream",
     "text": [
      "d:\\my_install\\python3.7\\lib\\site-packages\\seaborn\\categorical.py:373: UserWarning: Attempting to set identical left == right == -0.5 results in singular transformations; automatically expanding.\n",
      "  ax.set_xlim(-.5, len(self.plot_data) - .5, auto=None)\n",
      "No artists with labels found to put in legend.  Note that artists whose label start with an underscore are ignored when legend() is called with no argument.\n"
     ]
    },
    {
     "name": "stdout",
     "output_type": "stream",
     "text": [
      "1002\n",
      "4.288194444444445 1.78125\n"
     ]
    },
    {
     "ename": "ValueError",
     "evalue": "There must be exactly two hue levels to use `split`.'",
     "output_type": "error",
     "traceback": [
      "\u001b[1;31m---------------------------------------------------------------------------\u001b[0m",
      "\u001b[1;31mValueError\u001b[0m                                Traceback (most recent call last)",
      "\u001b[1;32m~\\AppData\\Local\\Temp\\ipykernel_13284\\3548934427.py\u001b[0m in \u001b[0;36m<module>\u001b[1;34m\u001b[0m\n\u001b[0;32m     14\u001b[0m \u001b[0mplot_analysis_one_collection\u001b[0m\u001b[1;33m(\u001b[0m\u001b[0mc1\u001b[0m\u001b[1;33m=\u001b[0m\u001b[1;34m'杭州市'\u001b[0m\u001b[1;33m,\u001b[0m\u001b[0mc2\u001b[0m\u001b[1;33m=\u001b[0m\u001b[1;34m'上海市'\u001b[0m\u001b[1;33m)\u001b[0m\u001b[1;33m\u001b[0m\u001b[1;33m\u001b[0m\u001b[0m\n\u001b[0;32m     15\u001b[0m \u001b[1;33m\u001b[0m\u001b[0m\n\u001b[1;32m---> 16\u001b[1;33m \u001b[0mplot_analysis_one_collection\u001b[0m\u001b[1;33m(\u001b[0m\u001b[0mc1\u001b[0m\u001b[1;33m=\u001b[0m\u001b[1;34m'长春市'\u001b[0m\u001b[1;33m,\u001b[0m\u001b[0mc2\u001b[0m\u001b[1;33m=\u001b[0m\u001b[1;34m'攀枝花市'\u001b[0m\u001b[1;33m)\u001b[0m\u001b[1;33m\u001b[0m\u001b[1;33m\u001b[0m\u001b[0m\n\u001b[0m",
      "\u001b[1;32m~\\AppData\\Local\\Temp\\ipykernel_13284\\3020079406.py\u001b[0m in \u001b[0;36mplot_analysis_one_collection\u001b[1;34m(c1, c2)\u001b[0m\n\u001b[0;32m     54\u001b[0m     \u001b[0mfname\u001b[0m \u001b[1;33m=\u001b[0m \u001b[1;34m'%s_%s_04晚上17点前收货'\u001b[0m\u001b[1;33m%\u001b[0m\u001b[1;33m(\u001b[0m\u001b[0mc1\u001b[0m\u001b[1;33m,\u001b[0m \u001b[0mc2\u001b[0m\u001b[1;33m)\u001b[0m\u001b[1;33m\u001b[0m\u001b[1;33m\u001b[0m\u001b[0m\n\u001b[0;32m     55\u001b[0m     sns.violinplot(x='order_to_timelimit', y='order_logistics_取派时间差(天)', hue='order_17点前取件', \n\u001b[1;32m---> 56\u001b[1;33m                    data=df, split=True, inner='quartile',palette=['purple', 'cyan'])\n\u001b[0m\u001b[0;32m     57\u001b[0m     \u001b[0mplt\u001b[0m\u001b[1;33m.\u001b[0m\u001b[0mtight_layout\u001b[0m\u001b[1;33m(\u001b[0m\u001b[1;33m)\u001b[0m\u001b[1;33m\u001b[0m\u001b[1;33m\u001b[0m\u001b[0m\n\u001b[0;32m     58\u001b[0m     \u001b[0mplt\u001b[0m\u001b[1;33m.\u001b[0m\u001b[0msavefig\u001b[0m\u001b[1;33m(\u001b[0m\u001b[0mos\u001b[0m\u001b[1;33m.\u001b[0m\u001b[0mpath\u001b[0m\u001b[1;33m.\u001b[0m\u001b[0mjoin\u001b[0m\u001b[1;33m(\u001b[0m\u001b[0mres_path\u001b[0m\u001b[1;33m,\u001b[0m\u001b[1;34m'%s.png'\u001b[0m\u001b[1;33m%\u001b[0m\u001b[0mfname\u001b[0m\u001b[1;33m)\u001b[0m\u001b[1;33m,\u001b[0m \u001b[0mdpi\u001b[0m\u001b[1;33m=\u001b[0m\u001b[1;36m150\u001b[0m\u001b[1;33m)\u001b[0m\u001b[1;33m\u001b[0m\u001b[1;33m\u001b[0m\u001b[0m\n",
      "\u001b[1;32md:\\my_install\\python3.7\\lib\\site-packages\\seaborn\\_decorators.py\u001b[0m in \u001b[0;36minner_f\u001b[1;34m(*args, **kwargs)\u001b[0m\n\u001b[0;32m     44\u001b[0m             )\n\u001b[0;32m     45\u001b[0m         \u001b[0mkwargs\u001b[0m\u001b[1;33m.\u001b[0m\u001b[0mupdate\u001b[0m\u001b[1;33m(\u001b[0m\u001b[1;33m{\u001b[0m\u001b[0mk\u001b[0m\u001b[1;33m:\u001b[0m \u001b[0marg\u001b[0m \u001b[1;32mfor\u001b[0m \u001b[0mk\u001b[0m\u001b[1;33m,\u001b[0m \u001b[0marg\u001b[0m \u001b[1;32min\u001b[0m \u001b[0mzip\u001b[0m\u001b[1;33m(\u001b[0m\u001b[0msig\u001b[0m\u001b[1;33m.\u001b[0m\u001b[0mparameters\u001b[0m\u001b[1;33m,\u001b[0m \u001b[0margs\u001b[0m\u001b[1;33m)\u001b[0m\u001b[1;33m}\u001b[0m\u001b[1;33m)\u001b[0m\u001b[1;33m\u001b[0m\u001b[1;33m\u001b[0m\u001b[0m\n\u001b[1;32m---> 46\u001b[1;33m         \u001b[1;32mreturn\u001b[0m \u001b[0mf\u001b[0m\u001b[1;33m(\u001b[0m\u001b[1;33m**\u001b[0m\u001b[0mkwargs\u001b[0m\u001b[1;33m)\u001b[0m\u001b[1;33m\u001b[0m\u001b[1;33m\u001b[0m\u001b[0m\n\u001b[0m\u001b[0;32m     47\u001b[0m     \u001b[1;32mreturn\u001b[0m \u001b[0minner_f\u001b[0m\u001b[1;33m\u001b[0m\u001b[1;33m\u001b[0m\u001b[0m\n\u001b[0;32m     48\u001b[0m \u001b[1;33m\u001b[0m\u001b[0m\n",
      "\u001b[1;32md:\\my_install\\python3.7\\lib\\site-packages\\seaborn\\categorical.py\u001b[0m in \u001b[0;36mviolinplot\u001b[1;34m(x, y, hue, data, order, hue_order, bw, cut, scale, scale_hue, gridsize, width, inner, split, dodge, orient, linewidth, color, palette, saturation, ax, **kwargs)\u001b[0m\n\u001b[0;32m   2401\u001b[0m                              \u001b[0mbw\u001b[0m\u001b[1;33m,\u001b[0m \u001b[0mcut\u001b[0m\u001b[1;33m,\u001b[0m \u001b[0mscale\u001b[0m\u001b[1;33m,\u001b[0m \u001b[0mscale_hue\u001b[0m\u001b[1;33m,\u001b[0m \u001b[0mgridsize\u001b[0m\u001b[1;33m,\u001b[0m\u001b[1;33m\u001b[0m\u001b[1;33m\u001b[0m\u001b[0m\n\u001b[0;32m   2402\u001b[0m                              \u001b[0mwidth\u001b[0m\u001b[1;33m,\u001b[0m \u001b[0minner\u001b[0m\u001b[1;33m,\u001b[0m \u001b[0msplit\u001b[0m\u001b[1;33m,\u001b[0m \u001b[0mdodge\u001b[0m\u001b[1;33m,\u001b[0m \u001b[0morient\u001b[0m\u001b[1;33m,\u001b[0m \u001b[0mlinewidth\u001b[0m\u001b[1;33m,\u001b[0m\u001b[1;33m\u001b[0m\u001b[1;33m\u001b[0m\u001b[0m\n\u001b[1;32m-> 2403\u001b[1;33m                              color, palette, saturation)\n\u001b[0m\u001b[0;32m   2404\u001b[0m \u001b[1;33m\u001b[0m\u001b[0m\n\u001b[0;32m   2405\u001b[0m     \u001b[1;32mif\u001b[0m \u001b[0max\u001b[0m \u001b[1;32mis\u001b[0m \u001b[1;32mNone\u001b[0m\u001b[1;33m:\u001b[0m\u001b[1;33m\u001b[0m\u001b[1;33m\u001b[0m\u001b[0m\n",
      "\u001b[1;32md:\\my_install\\python3.7\\lib\\site-packages\\seaborn\\categorical.py\u001b[0m in \u001b[0;36m__init__\u001b[1;34m(self, x, y, hue, data, order, hue_order, bw, cut, scale, scale_hue, gridsize, width, inner, split, dodge, orient, linewidth, color, palette, saturation)\u001b[0m\n\u001b[0;32m    539\u001b[0m         \u001b[1;32mif\u001b[0m \u001b[0msplit\u001b[0m \u001b[1;32mand\u001b[0m \u001b[0mself\u001b[0m\u001b[1;33m.\u001b[0m\u001b[0mhue_names\u001b[0m \u001b[1;32mis\u001b[0m \u001b[1;32mnot\u001b[0m \u001b[1;32mNone\u001b[0m \u001b[1;32mand\u001b[0m \u001b[0mlen\u001b[0m\u001b[1;33m(\u001b[0m\u001b[0mself\u001b[0m\u001b[1;33m.\u001b[0m\u001b[0mhue_names\u001b[0m\u001b[1;33m)\u001b[0m \u001b[1;33m!=\u001b[0m \u001b[1;36m2\u001b[0m\u001b[1;33m:\u001b[0m\u001b[1;33m\u001b[0m\u001b[1;33m\u001b[0m\u001b[0m\n\u001b[0;32m    540\u001b[0m             \u001b[0mmsg\u001b[0m \u001b[1;33m=\u001b[0m \u001b[1;34m\"There must be exactly two hue levels to use `split`.'\"\u001b[0m\u001b[1;33m\u001b[0m\u001b[1;33m\u001b[0m\u001b[0m\n\u001b[1;32m--> 541\u001b[1;33m             \u001b[1;32mraise\u001b[0m \u001b[0mValueError\u001b[0m\u001b[1;33m(\u001b[0m\u001b[0mmsg\u001b[0m\u001b[1;33m)\u001b[0m\u001b[1;33m\u001b[0m\u001b[1;33m\u001b[0m\u001b[0m\n\u001b[0m\u001b[0;32m    542\u001b[0m         \u001b[0mself\u001b[0m\u001b[1;33m.\u001b[0m\u001b[0msplit\u001b[0m \u001b[1;33m=\u001b[0m \u001b[0msplit\u001b[0m\u001b[1;33m\u001b[0m\u001b[1;33m\u001b[0m\u001b[0m\n\u001b[0;32m    543\u001b[0m \u001b[1;33m\u001b[0m\u001b[0m\n",
      "\u001b[1;31mValueError\u001b[0m: There must be exactly two hue levels to use `split`.'"
     ]
    },
    {
     "data": {
      "text/plain": [
       "<Figure size 432x288 with 0 Axes>"
      ]
     },
     "metadata": {},
     "output_type": "display_data"
    }
   ],
   "source": [
    "# 北京市 110000 ===> 上海市 310000\n",
    "# 上海市 310000 ===> 北京市 110000\n",
    "# 上海市 310000 ===> 广州市 440100\n",
    "# 广州市 440100 ===> 上海市 310000\n",
    "# 南京市 320100 ===> 上海市 310000\n",
    "# 长春市 220100 ===> 上海市 310000\n",
    "# 杭州市 330100 ===> 上海市 310000\n",
    "# 天津市 120000 ===> 上海市 310000\n",
    "# 郑州市 410100 ===> 上海市 310000\n",
    "# 杭州市 330100 ===> 北京市 11000\n",
    "\n",
    "plot_analysis_one_collection(c1='北京市',c2='上海市')\n",
    "plot_analysis_one_collection(c1='广州市',c2='上海市')\n",
    "plot_analysis_one_collection(c1='杭州市',c2='上海市')\n",
    "\n",
    "plot_analysis_one_collection(c1='长春市',c2='攀枝花市')"
   ]
  },
  {
   "cell_type": "code",
   "execution_count": null,
   "id": "bb6e6ca4",
   "metadata": {},
   "outputs": [],
   "source": [
    "for k,v in mydict.items():\n",
    "    print('============================',k, file=f2)\n",
    "    print(v, file=f2)\n",
    "f2.close()\n",
    "plt.close()"
   ]
  }
 ],
 "metadata": {
  "kernelspec": {
   "display_name": "Python 3 (ipykernel)",
   "language": "python",
   "name": "python3"
  },
  "language_info": {
   "codemirror_mode": {
    "name": "ipython",
    "version": 3
   },
   "file_extension": ".py",
   "mimetype": "text/x-python",
   "name": "python",
   "nbconvert_exporter": "python",
   "pygments_lexer": "ipython3",
   "version": "3.7.7"
  }
 },
 "nbformat": 4,
 "nbformat_minor": 5
}
